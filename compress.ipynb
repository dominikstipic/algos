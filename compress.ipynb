{
 "cells": [
  {
   "cell_type": "markdown",
   "metadata": {},
   "source": [
    "![alt](tasks/1.png)"
   ]
  },
  {
   "cell_type": "code",
   "execution_count": null,
   "metadata": {},
   "outputs": [
    {
     "name": "stdout",
     "output_type": "stream",
     "text": [
      "a4b2c5a3\n"
     ]
    }
   ],
   "source": [
    "string = \"aaaabbcccccaaa\"\n",
    "result = \"\"\n",
    "\n",
    "i = 0\n",
    "while i < (len(string)-1): \n",
    "    num = 1\n",
    "    holding_char = string[i]\n",
    "    result += holding_char\n",
    "    for j in range(i+1, len(string)):\n",
    "        comp_char = string[j]\n",
    "        if holding_char == comp_char:\n",
    "            num += 1\n",
    "        else:\n",
    "            break\n",
    "    result += f\"{num}\"\n",
    "    i = j\n",
    "print(result)\n",
    "    \n",
    "\n",
    "            "
   ]
  },
  {
   "cell_type": "markdown",
   "metadata": {},
   "source": []
  }
 ],
 "metadata": {
  "kernelspec": {
   "display_name": "base",
   "language": "python",
   "name": "python3"
  },
  "language_info": {
   "codemirror_mode": {
    "name": "ipython",
    "version": 3
   },
   "file_extension": ".py",
   "mimetype": "text/x-python",
   "name": "python",
   "nbconvert_exporter": "python",
   "pygments_lexer": "ipython3",
   "version": "3.12.2"
  }
 },
 "nbformat": 4,
 "nbformat_minor": 2
}
